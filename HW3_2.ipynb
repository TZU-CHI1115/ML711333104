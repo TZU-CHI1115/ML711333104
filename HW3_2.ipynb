{
 "cells": [
  {
   "cell_type": "markdown",
   "id": "91a75039",
   "metadata": {},
   "source": [
    "#### <strong>第三次作品：三個分類器於兩組影像的評比實驗</strong>\n",
    "學號：711333104\n",
    "\n",
    "姓名：林子齊\n",
    "<hr>\n",
    "\n",
    " <font color=skyblue>作品目標</font>：\n",
    " <hr>"
   ]
  },
  {
   "cell_type": "code",
   "execution_count": 27,
   "id": "17b33d86",
   "metadata": {},
   "outputs": [
    {
     "data": {
      "text/plain": [
       "<module 'HW3_common_utils' from 'c:\\\\Users\\\\Jimmy\\\\Desktop\\\\git\\\\ML711333104\\\\HW3_common_utils.py'>"
      ]
     },
     "execution_count": 27,
     "metadata": {},
     "output_type": "execute_result"
    }
   ],
   "source": [
    "from importlib import reload\n",
    "import HW3_common_utils\n",
    "reload(HW3_common_utils)"
   ]
  },
  {
   "cell_type": "code",
   "execution_count": null,
   "id": "12e1131d",
   "metadata": {},
   "outputs": [],
   "source": [
    "import numpy as np\n",
    "import scipy.io\n",
    "import pandas as pd\n",
    "from HW3_common_utils import split_and_scale, apply_pca, run_logistic_regression_cv, run_logistic_gridcv, \\\n",
    "    run_svm_classification, run_mlp_classifier, plot_mlp_loss_curve"
   ]
  },
  {
   "cell_type": "markdown",
   "id": "b451f881",
   "metadata": {},
   "source": [
    "先觀察資料的型態。\n"
   ]
  },
  {
   "cell_type": "code",
   "execution_count": 56,
   "id": "2c210bd3",
   "metadata": {},
   "outputs": [
    {
     "name": "stdout",
     "output_type": "stream",
     "text": [
      "X.shape = (32256, 2410)\n",
      "y.shape = (38,)\n",
      "Total number of images = 2410\n",
      "Total number of persons = 38\n",
      "Image size = 168 x 192\n",
      "Number of images for each person = [64 62 64 64 62 64 64 64 64 64 60 59 60 63 62 63 63 64 64 64 64 64 64 64\n",
      " 64 64 64 64 64 64 64 64 64 64 64 64 64 64]\n",
      "Total number of images = 2410\n"
     ]
    }
   ],
   "source": [
    "D = scipy.io.loadmat('data/allFaces.mat')\n",
    "X = D['faces'] # 32256 x 2410 each column represents an image\n",
    "y = np.ndarray.flatten(D['nfaces'])\n",
    "m = D['m'].item() # 168\n",
    "n = D['n'].item() # 192\n",
    "n_persons = D['person'].item() # 38\n",
    "\n",
    "# print the data information\n",
    "print('X.shape =', X.shape)\n",
    "print('y.shape =', y.shape)\n",
    "print('Total number of images =', X.shape[1])\n",
    "print('Total number of persons =', n_persons)\n",
    "print('Image size =', m, 'x', n)\n",
    "print('Number of images for each person =',y) \n",
    "print('Total number of images =', y.sum())"
   ]
  },
  {
   "cell_type": "code",
   "execution_count": 57,
   "id": "f9349167",
   "metadata": {},
   "outputs": [
    {
     "name": "stdout",
     "output_type": "stream",
     "text": [
      "每個人的圖片數量：\n",
      "Person  0: 64 images\n",
      "Person  1: 62 images\n",
      "Person  2: 64 images\n",
      "Person  3: 64 images\n",
      "Person  4: 62 images\n",
      "Person  5: 64 images\n",
      "Person  6: 64 images\n",
      "Person  7: 64 images\n",
      "Person  8: 64 images\n",
      "Person  9: 64 images\n",
      "Person 10: 60 images\n",
      "Person 11: 59 images\n",
      "Person 12: 60 images\n",
      "Person 13: 63 images\n",
      "Person 14: 62 images\n",
      "Person 15: 63 images\n",
      "Person 16: 63 images\n",
      "Person 17: 64 images\n",
      "Person 18: 64 images\n",
      "Person 19: 64 images\n",
      "Person 20: 64 images\n",
      "Person 21: 64 images\n",
      "Person 22: 64 images\n",
      "Person 23: 64 images\n",
      "Person 24: 64 images\n",
      "Person 25: 64 images\n",
      "Person 26: 64 images\n",
      "Person 27: 64 images\n",
      "Person 28: 64 images\n",
      "Person 29: 64 images\n",
      "Person 30: 64 images\n",
      "Person 31: 64 images\n",
      "Person 32: 64 images\n",
      "Person 33: 64 images\n",
      "Person 34: 64 images\n",
      "Person 35: 64 images\n",
      "Person 36: 64 images\n",
      "Person 37: 64 images\n"
     ]
    }
   ],
   "source": [
    "# 根據 y 產生 0~37 的 label\n",
    "label_list = []\n",
    "for person_id, count in enumerate(y):  # y 是每人的圖片數\n",
    "    label_list.extend([person_id] * count)\n",
    "y_full = np.array(label_list)  # 長度為 2410\n",
    "\n",
    "unique, counts = np.unique(y_full, return_counts=True)\n",
    "print(\"每個人的圖片數量：\")\n",
    "for label, count in zip(unique, counts):\n",
    "    print(f\"Person {label:2d}: {count} images\")\n"
   ]
  },
  {
   "cell_type": "markdown",
   "id": "f229775a",
   "metadata": {},
   "source": [
    "### 資料切分說明\n",
    "\n",
    "為了進行交叉驗證時能減少資料偏差，我們將**資料依照原始類別比例**進行切分，將資料集分成：\n",
    "\n",
    "- **訓練集（Training Set）**：70%\n",
    "- **測試集（Testing Set）**：30%\n",
    "\n",
    "透過**分層切分（stratified split）**，確保每一類別在訓練集與測試集中都保有相近的比例，有助於：\n",
    "\n",
    "- 提高交叉驗證的代表性\n",
    "- 降低模型偏誤（bias）\n",
    "- 評估模型在未見資料上的泛化能力"
   ]
  },
  {
   "cell_type": "code",
   "execution_count": null,
   "id": "53d1b7d6",
   "metadata": {},
   "outputs": [
    {
     "name": "stdout",
     "output_type": "stream",
     "text": [
      "Training samples: 1687\n",
      "Testing samples: 723\n",
      "Training data shape: (1687, 32256)\n",
      "Testing data shape: (723, 32256)\n",
      "類別數量： 38\n"
     ]
    }
   ],
   "source": [
    "X = X.T # 2410 x 32256 each row represents an image\n",
    "\n",
    "X_train_scaled, X_test_scaled, y_train, y_test = split_and_scale(\n",
    "    X, y_full, test_size=0.3\n",
    ")\n",
    "\n",
    "print(f\"Training samples: {X_train_scaled.shape[0]}\")\n",
    "print(f\"Testing samples: {X_test_scaled.shape[0]}\")\n",
    "print(f\"Training data shape: {X_train_scaled.shape}\")\n",
    "print(f\"Testing data shape: {X_test_scaled.shape}\")\n",
    "print(\"類別數量：\", len(np.unique(y_full)))"
   ]
  },
  {
   "cell_type": "markdown",
   "id": "aa5935c8",
   "metadata": {},
   "source": [
    "## 1. 原始資料\n",
    "\n",
    "### 1-1 多元羅吉斯回歸 (Multinomial Logistic Regression)"
   ]
  },
  {
   "cell_type": "code",
   "execution_count": null,
   "id": "a097ab2d",
   "metadata": {},
   "outputs": [
    {
     "name": "stdout",
     "output_type": "stream",
     "text": [
      "Logistic Regression with CV (solver = lbfgs)\n",
      "Best C = [0.0483293 0.0483293 0.0483293 0.0483293 0.0483293 0.0483293 0.0483293\n",
      " 0.0483293 0.0483293 0.0483293 0.0483293 0.0483293 0.0483293 0.0483293\n",
      " 0.0483293 0.0483293 0.0483293 0.0483293 0.0483293 0.0483293 0.0483293\n",
      " 0.0483293 0.0483293 0.0483293 0.0483293 0.0483293 0.0483293 0.0483293\n",
      " 0.0483293 0.0483293 0.0483293 0.0483293 0.0483293 0.0483293 0.0483293\n",
      " 0.0483293 0.0483293 0.0483293]\n",
      "Training Accuracy: 99.70%\n",
      "Testing Accuracy : 96.96%\n",
      "Elapsed time: 13854.20 seconds\n"
     ]
    }
   ],
   "source": [
    "# 執行 Logistic Regression CV\n",
    "result = run_logistic_regression_cv(\n",
    "    X_train_scaled, X_test_scaled, y_train, y_test,\n",
    "    solver='lbfgs',\n",
    "    Cs=np.logspace(-5, 5, 20),\n",
    "    cv=5,\n",
    "    tol=1e-6,\n",
    "    max_iter=int(1e6),\n",
    "    verbose=0,\n",
    "    print_report=True\n",
    ")"
   ]
  },
  {
   "cell_type": "markdown",
   "id": "d73ce014",
   "metadata": {},
   "source": [
    "### 1-2 支援向量機"
   ]
  },
  {
   "cell_type": "code",
   "execution_count": 28,
   "id": "f2ac0356",
   "metadata": {},
   "outputs": [
    {
     "name": "stdout",
     "output_type": "stream",
     "text": [
      "SVM Classification (SVC-linear)\n",
      "Test Accuracy: 92.67%\n",
      "Elapsed Time: 178.09 seconds\n"
     ]
    }
   ],
   "source": [
    "result = run_svm_classification(\n",
    "    X_train_scaled, X_test_scaled, y_train, y_test,\n",
    "    kernel='linear',\n",
    "    use_linear_svc=False \n",
    ")"
   ]
  },
  {
   "cell_type": "code",
   "execution_count": 16,
   "id": "09d2db35",
   "metadata": {},
   "outputs": [
    {
     "name": "stdout",
     "output_type": "stream",
     "text": [
      "SVM Classification (SVC-rbf)\n",
      "Test Accuracy: 22.68%\n",
      "Elapsed Time: 554.95 seconds\n"
     ]
    }
   ],
   "source": [
    "result = run_svm_classification(\n",
    "    X_train_scaled, X_test_scaled, y_train, y_test,\n",
    "    kernel='rbf',\n",
    "    C=0.1,\n",
    "    gamma=0.2,\n",
    "    use_linear_svc=False\n",
    ")"
   ]
  },
  {
   "cell_type": "code",
   "execution_count": 10,
   "id": "1eac1392",
   "metadata": {},
   "outputs": [
    {
     "name": "stdout",
     "output_type": "stream",
     "text": [
      "SVM Classification (SVC-poly)\n",
      "Test Accuracy: 74.41%\n",
      "Elapsed Time: 267.61 seconds\n"
     ]
    }
   ],
   "source": [
    "result = run_svm_classification(\n",
    "    X_train_scaled, X_test_scaled, y_train, y_test,\n",
    "    kernel='poly',\n",
    "    degree=2,\n",
    "    gamma='auto',\n",
    "    use_linear_svc=False \n",
    ")"
   ]
  },
  {
   "cell_type": "code",
   "execution_count": 11,
   "id": "72dcfd27",
   "metadata": {},
   "outputs": [
    {
     "name": "stdout",
     "output_type": "stream",
     "text": [
      "SVM Classification (SVC-poly)\n",
      "Test Accuracy: 65.84%\n",
      "Elapsed Time: 273.09 seconds\n"
     ]
    }
   ],
   "source": [
    "result = run_svm_classification(\n",
    "    X_train_scaled, X_test_scaled, y_train, y_test,\n",
    "    kernel='poly',\n",
    "    degree=3,\n",
    "    gamma='auto',\n",
    "    use_linear_svc=False \n",
    ")"
   ]
  },
  {
   "cell_type": "code",
   "execution_count": 17,
   "id": "4526e788",
   "metadata": {},
   "outputs": [
    {
     "name": "stdout",
     "output_type": "stream",
     "text": [
      "SVM Classification (SVC-rbf)\n",
      "Test Accuracy: 21.58%\n",
      "Elapsed Time: 452.59 seconds\n"
     ]
    }
   ],
   "source": [
    "result = run_svm_classification(\n",
    "    X_train_scaled, X_test_scaled, y_train, y_test,\n",
    "    kernel='rbf',\n",
    "    C=1,\n",
    "    gamma=0.2,\n",
    "    use_linear_svc=False\n",
    ")"
   ]
  },
  {
   "cell_type": "code",
   "execution_count": null,
   "id": "cebdcd18",
   "metadata": {},
   "outputs": [],
   "source": [
    "result = run_svm_classification(\n",
    "    X_train_scaled, X_test_scaled, y_train, y_test,\n",
    "    use_linear_svc=True  \n",
    ")"
   ]
  },
  {
   "cell_type": "markdown",
   "id": "b2081ae2",
   "metadata": {},
   "source": [
    "### 1-3 神經網路"
   ]
  },
  {
   "cell_type": "code",
   "execution_count": null,
   "id": "2fa3eaf5",
   "metadata": {},
   "outputs": [
    {
     "name": "stdout",
     "output_type": "stream",
     "text": [
      "MLP Classifier Report\n",
      "Test Accuracy: 91.29%\n",
      "Elapsed Time: 47.97 seconds\n"
     ]
    },
    {
     "data": {
      "image/png": "[encoded data removed]",
      "text/plain": [
       "<Figure size 500x300 with 1 Axes>"
      ]
     },
     "metadata": {},
     "output_type": "display_data"
    }
   ],
   "source": [
    "result = run_mlp_classifier(\n",
    "    X_train_scaled, X_test_scaled, y_train, y_test,\n",
    "    hidden_layers=(50),\n",
    "    activation='relu',\n",
    "    solver='adam',\n",
    "    print_report=True,\n",
    "    random_state=42\n",
    ")\n",
    "\n",
    "plot_mlp_loss_curve(result['model'])"
   ]
  },
  {
   "cell_type": "code",
   "execution_count": 40,
   "id": "0472c565",
   "metadata": {},
   "outputs": [
    {
     "name": "stdout",
     "output_type": "stream",
     "text": [
      "MLP Classifier Report\n",
      "Test Accuracy: 94.74%\n",
      "Elapsed Time: 156.38 seconds\n"
     ]
    },
    {
     "data": {
      "image/png": "[encoded data removed]",
      "text/plain": [
       "<Figure size 500x300 with 1 Axes>"
      ]
     },
     "metadata": {},
     "output_type": "display_data"
    }
   ],
   "source": [
    "result = run_mlp_classifier(\n",
    "    X_train_scaled, X_test_scaled, y_train, y_test,\n",
    "    hidden_layers=(50,),\n",
    "    activation='relu',\n",
    "    solver='sgd',\n",
    "    print_report=True,\n",
    "    random_state=42\n",
    ")\n",
    "\n",
    "plot_mlp_loss_curve(result['model'])"
   ]
  },
  {
   "cell_type": "markdown",
   "id": "ff3aebbc",
   "metadata": {},
   "source": [
    "## 2. 主成分資料"
   ]
  },
  {
   "cell_type": "code",
   "execution_count": null,
   "id": "56ae4498",
   "metadata": {},
   "outputs": [],
   "source": [
    "X_train_pca, X_test_pca, pca = apply_pca(X_train_scaled, X_test_scaled, variance_ratio=0.8)"
   ]
  },
  {
   "cell_type": "markdown",
   "id": "f83be70f",
   "metadata": {},
   "source": [
    "### 2-1 多元羅吉斯回歸 "
   ]
  },
  {
   "cell_type": "code",
   "execution_count": null,
   "id": "a15b0917",
   "metadata": {},
   "outputs": [
    {
     "name": "stdout",
     "output_type": "stream",
     "text": [
      "Logistic Regression with CV (solver = lbfgs)\n",
      "Best C = [0.54555948 0.54555948 0.54555948 0.54555948 0.54555948 0.54555948\n",
      " 0.54555948 0.54555948 0.54555948 0.54555948 0.54555948 0.54555948\n",
      " 0.54555948 0.54555948 0.54555948 0.54555948 0.54555948 0.54555948\n",
      " 0.54555948 0.54555948 0.54555948 0.54555948 0.54555948 0.54555948\n",
      " 0.54555948 0.54555948 0.54555948 0.54555948 0.54555948 0.54555948\n",
      " 0.54555948 0.54555948 0.54555948 0.54555948 0.54555948 0.54555948\n",
      " 0.54555948 0.54555948]\n",
      "Training Accuracy: 37.40%\n",
      "Testing Accuracy : 33.47%\n",
      "Elapsed time: 181.96 seconds\n"
     ]
    }
   ],
   "source": [
    "result = run_logistic_regression_cv(\n",
    "    X_train_pca, X_test_pca, y_train, y_test,\n",
    "    solver='lbfgs',\n",
    "    Cs=np.logspace(-5, 5, 20),\n",
    "    cv=5,\n",
    "    tol=1e-6,\n",
    "    max_iter=int(1e6),\n",
    "    verbose=0,\n",
    "    print_report=True\n",
    ")"
   ]
  },
  {
   "cell_type": "markdown",
   "id": "702d3e40",
   "metadata": {},
   "source": [
    "會發現訓練出來的狀況很糟糕，所以考慮把variance_ratio調高至0.95。"
   ]
  },
  {
   "cell_type": "code",
   "execution_count": 8,
   "id": "f1d13da1",
   "metadata": {},
   "outputs": [],
   "source": [
    "X_train_pca, X_test_pca, pca = apply_pca(X_train_scaled, X_test_scaled, variance_ratio=0.95)"
   ]
  },
  {
   "cell_type": "code",
   "execution_count": 21,
   "id": "8877c6f5",
   "metadata": {},
   "outputs": [
    {
     "name": "stdout",
     "output_type": "stream",
     "text": [
      "Logistic Regression with CV (solver = lbfgs)\n",
      "Best C = [0.0483293 0.0483293 0.0483293 0.0483293 0.0483293 0.0483293 0.0483293\n",
      " 0.0483293 0.0483293 0.0483293 0.0483293 0.0483293 0.0483293 0.0483293\n",
      " 0.0483293 0.0483293 0.0483293 0.0483293 0.0483293 0.0483293 0.0483293\n",
      " 0.0483293 0.0483293 0.0483293 0.0483293 0.0483293 0.0483293 0.0483293\n",
      " 0.0483293 0.0483293 0.0483293 0.0483293 0.0483293 0.0483293 0.0483293\n",
      " 0.0483293 0.0483293 0.0483293]\n",
      "Training Accuracy: 99.70%\n",
      "Testing Accuracy : 95.71%\n",
      "Elapsed time: 37.99 seconds\n"
     ]
    }
   ],
   "source": [
    "result = run_logistic_regression_cv(\n",
    "    X_train_pca, X_test_pca, y_train, y_test,\n",
    "    solver='lbfgs',\n",
    "    Cs=np.logspace(-5, 5, 20),\n",
    "    cv=5,\n",
    "    tol=1e-4,\n",
    "    max_iter=int(1e6),\n",
    "    verbose=0,\n",
    "    print_report=True\n",
    ")"
   ]
  },
  {
   "cell_type": "code",
   "execution_count": null,
   "id": "ce1c085f",
   "metadata": {},
   "outputs": [],
   "source": [
    "param_grid = {\n",
    "    'solver': ['lbfgs', 'newton-cg', 'saga'],\n",
    "    'C': [0.1, 1, 10]\n",
    "}\n",
    "\n",
    "result = run_logistic_gridcv(X_train_pca, y_train, param_grid=param_grid)"
   ]
  },
  {
   "cell_type": "markdown",
   "id": "cae02dc9",
   "metadata": {},
   "source": [
    "### 2-2 支援向量機"
   ]
  },
  {
   "cell_type": "code",
   "execution_count": 44,
   "id": "ab1232a1",
   "metadata": {},
   "outputs": [
    {
     "name": "stdout",
     "output_type": "stream",
     "text": [
      "SVM Classification (SVC-linear)\n",
      "Test Accuracy: 91.56%\n",
      "Elapsed Time: 0.21 seconds\n"
     ]
    }
   ],
   "source": [
    "result = run_svm_classification(\n",
    "    X_train_pca, X_test_pca, y_train, y_test,\n",
    "    kernel='linear',\n",
    "    use_linear_svc=False \n",
    ")"
   ]
  },
  {
   "cell_type": "code",
   "execution_count": 9,
   "id": "10578612",
   "metadata": {},
   "outputs": [
    {
     "name": "stdout",
     "output_type": "stream",
     "text": [
      "SVM Classification (SVC-rbf)\n",
      "Test Accuracy: 38.87%\n",
      "Elapsed Time: 0.26 seconds\n"
     ]
    }
   ],
   "source": [
    "result = run_svm_classification(\n",
    "    X_train_pca, X_test_pca, y_train, y_test,\n",
    "    kernel='rbf',\n",
    "    C=0.01,\n",
    "    gamma=0.1,\n",
    "    use_linear_svc=False\n",
    ")"
   ]
  },
  {
   "cell_type": "code",
   "execution_count": 47,
   "id": "c5bb80cb",
   "metadata": {},
   "outputs": [
    {
     "name": "stdout",
     "output_type": "stream",
     "text": [
      "SVM Classification (SVC-poly)\n",
      "Test Accuracy: 85.89%\n",
      "Elapsed Time: 0.24 seconds\n"
     ]
    }
   ],
   "source": [
    "result = run_svm_classification(\n",
    "    X_train_pca, X_test_pca, y_train, y_test,\n",
    "    kernel='poly',\n",
    "    degree=2,\n",
    "    gamma='auto',\n",
    "    use_linear_svc=False \n",
    ")"
   ]
  },
  {
   "cell_type": "code",
   "execution_count": 29,
   "id": "da28a0ad",
   "metadata": {},
   "outputs": [
    {
     "name": "stdout",
     "output_type": "stream",
     "text": [
      "SVM Classification (SVC-poly)\n",
      "Test Accuracy: 82.57%\n",
      "Elapsed Time: 0.20 seconds\n"
     ]
    }
   ],
   "source": [
    "result = run_svm_classification(\n",
    "    X_train_pca, X_test_pca, y_train, y_test,\n",
    "    kernel='poly',\n",
    "    degree=3,\n",
    "    gamma='auto',\n",
    "    use_linear_svc=False \n",
    ")"
   ]
  },
  {
   "cell_type": "code",
   "execution_count": 30,
   "id": "0d5acb40",
   "metadata": {},
   "outputs": [
    {
     "name": "stdout",
     "output_type": "stream",
     "text": [
      "SVM Classification (LinearSVC)\n",
      "Test Accuracy: 93.22%\n",
      "Elapsed Time: 4.91 seconds\n"
     ]
    }
   ],
   "source": [
    "X_train_pca, X_test_pca, pca = apply_pca(X_train_scaled, X_test_scaled, variance_ratio=0.95)\n",
    "result = run_svm_classification(\n",
    "    X_train_pca, X_test_pca, y_train, y_test,\n",
    "    use_linear_svc=True  \n",
    ")"
   ]
  },
  {
   "cell_type": "markdown",
   "id": "733f4f26",
   "metadata": {},
   "source": [
    "### 2-3 神經網路"
   ]
  },
  {
   "cell_type": "code",
   "execution_count": 54,
   "id": "1d3ac3cb",
   "metadata": {},
   "outputs": [
    {
     "name": "stdout",
     "output_type": "stream",
     "text": [
      "MLP Classifier Report\n",
      "Test Accuracy: 91.84%\n",
      "Elapsed Time: 1.19 seconds\n"
     ]
    },
    {
     "data": {
      "image/png": "[encoded data removed]",
      "text/plain": [
       "<Figure size 500x300 with 1 Axes>"
      ]
     },
     "metadata": {},
     "output_type": "display_data"
    }
   ],
   "source": [
    "result = run_mlp_classifier(\n",
    "    X_train_pca, X_test_pca, y_train, y_test,\n",
    "    hidden_layers=(140,),\n",
    "    activation='relu',\n",
    "    solver='adam',\n",
    "    print_report=True,\n",
    "    random_state=42\n",
    ")\n",
    "\n",
    "plot_mlp_loss_curve(result['model'])"
   ]
  },
  {
   "cell_type": "code",
   "execution_count": 46,
   "id": "8c1362ab",
   "metadata": {},
   "outputs": [
    {
     "name": "stdout",
     "output_type": "stream",
     "text": [
      "MLP Classifier Report\n",
      "Test Accuracy: 91.56%\n",
      "Elapsed Time: 3.23 seconds\n"
     ]
    },
    {
     "data": {
      "image/png": "[encoded data removed]",
      "text/plain": [
       "<Figure size 500x300 with 1 Axes>"
      ]
     },
     "metadata": {},
     "output_type": "display_data"
    }
   ],
   "source": [
    "result = run_mlp_classifier(\n",
    "    X_train_pca, X_test_pca, y_train, y_test,\n",
    "    hidden_layers=(300,),\n",
    "    activation='relu',\n",
    "    solver='sgd',\n",
    "    print_report=True,\n",
    "    random_state=42\n",
    ")\n",
    "\n",
    "plot_mlp_loss_curve(result['model'])"
   ]
  }
 ],
 "metadata": {
  "kernelspec": {
   "display_name": "Python 3",
   "language": "python",
   "name": "python3"
  },
  "language_info": {
   "codemirror_mode": {
    "name": "ipython",
    "version": 3
   },
   "file_extension": ".py",
   "mimetype": "text/x-python",
   "name": "python",
   "nbconvert_exporter": "python",
   "pygments_lexer": "ipython3",
   "version": "3.13.2"
  }
 },
 "nbformat": 4,
 "nbformat_minor": 5
}
