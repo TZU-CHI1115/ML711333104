{
 "cells": [
  {
   "cell_type": "code",
   "execution_count": 3,
   "id": "12e1131d",
   "metadata": {},
   "outputs": [],
   "source": [
    "import numpy as np\n",
    "import scipy.io"
   ]
  },
  {
   "cell_type": "code",
   "execution_count": 4,
   "id": "2c210bd3",
   "metadata": {},
   "outputs": [
    {
     "name": "stdout",
     "output_type": "stream",
     "text": [
      "X.shape = (32256, 2410)\n",
      "y.shape = (38,)\n",
      "Total number of images = 2410\n",
      "Total number of persons = 38\n",
      "Image size = 168 x 192\n",
      "Number of images for each person = [64 62 64 64 62 64 64 64 64 64 60 59 60 63 62 63 63 64 64 64 64 64 64 64\n",
      " 64 64 64 64 64 64 64 64 64 64 64 64 64 64]\n",
      "Total number of images = 2410\n"
     ]
    }
   ],
   "source": [
    "D = scipy.io.loadmat('data/allFaces.mat')\n",
    "X = D['faces'] # 32256 x 2410 each column represents an image\n",
    "y = np.ndarray.flatten(D['nfaces'])\n",
    "m = D['m'].item() # 168\n",
    "n = D['n'].item() # 192\n",
    "n_persons = D['person'].item() # 38\n",
    "\n",
    "# print the data information\n",
    "print('X.shape =', X.shape)\n",
    "print('y.shape =', y.shape)\n",
    "print('Total number of images =', X.shape[1])\n",
    "print('Total number of persons =', n_persons)\n",
    "print('Image size =', m, 'x', n)\n",
    "print('Number of images for each person =',y) \n",
    "print('Total number of images =', y.sum())"
   ]
  },
  {
   "cell_type": "code",
   "execution_count": null,
   "id": "f97f7956",
   "metadata": {},
   "outputs": [],
   "source": []
  }
 ],
 "metadata": {
  "kernelspec": {
   "display_name": "Python 3",
   "language": "python",
   "name": "python3"
  },
  "language_info": {
   "codemirror_mode": {
    "name": "ipython",
    "version": 3
   },
   "file_extension": ".py",
   "mimetype": "text/x-python",
   "name": "python",
   "nbconvert_exporter": "python",
   "pygments_lexer": "ipython3",
   "version": "3.13.2"
  }
 },
 "nbformat": 4,
 "nbformat_minor": 5
}
