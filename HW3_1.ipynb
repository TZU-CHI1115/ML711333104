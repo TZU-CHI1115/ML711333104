{
 "cells": [
  {
   "cell_type": "markdown",
   "id": "86dacc74",
   "metadata": {},
   "source": [
    "#### <strong>第三次作品：三個分類器於兩組影像的評比實驗</strong>\n",
    "學號：711333104\n",
    "\n",
    "姓名：林子齊\n",
    "<hr>\n",
    "\n",
    " <font color=skyblue>作品目標</font>：\n",
    " <hr>"
   ]
  },
  {
   "cell_type": "code",
   "execution_count": 7,
   "id": "f8b43f61",
   "metadata": {},
   "outputs": [],
   "source": [
    "import pandas as pd\n",
    "import numpy as np\n",
    "from sklearn.preprocessing import StandardScaler\n",
    "from sklearn.model_selection import train_test_split"
   ]
  },
  {
   "cell_type": "code",
   "execution_count": 9,
   "id": "3bb95400",
   "metadata": {},
   "outputs": [
    {
     "name": "stdout",
     "output_type": "stream",
     "text": [
      "          0         1         2         3         4         5         6  \\\n",
      "0  0.309917  0.367769  0.417355  0.442149  0.528926  0.607438  0.657025   \n",
      "1  0.454545  0.471074  0.512397  0.557851  0.595041  0.640496  0.681818   \n",
      "2  0.318182  0.400826  0.491736  0.528926  0.586777  0.657025  0.681818   \n",
      "3  0.198347  0.194215  0.194215  0.194215  0.190083  0.190083  0.243802   \n",
      "4  0.500000  0.545455  0.582645  0.623967  0.648760  0.690083  0.694215   \n",
      "\n",
      "          7         8         9  ...      4087      4088      4089      4090  \\\n",
      "0  0.677686  0.690083  0.685950  ...  0.669422  0.652893  0.661157  0.475207   \n",
      "1  0.702479  0.710744  0.702479  ...  0.157025  0.136364  0.148760  0.152893   \n",
      "2  0.685950  0.702479  0.698347  ...  0.132231  0.181818  0.136364  0.128099   \n",
      "3  0.404959  0.483471  0.516529  ...  0.636364  0.657025  0.685950  0.727273   \n",
      "4  0.714876  0.723140  0.731405  ...  0.161157  0.177686  0.173554  0.177686   \n",
      "\n",
      "       4091      4092      4093      4094      4095  target  \n",
      "0  0.132231  0.148760  0.152893  0.161157  0.157025       0  \n",
      "1  0.152893  0.152893  0.152893  0.152893  0.152893       0  \n",
      "2  0.148760  0.144628  0.140496  0.148760  0.152893       0  \n",
      "3  0.743802  0.764463  0.752066  0.752066  0.739669       0  \n",
      "4  0.177686  0.177686  0.177686  0.173554  0.173554       0  \n",
      "\n",
      "[5 rows x 4097 columns]\n",
      "<class 'pandas.core.frame.DataFrame'>\n",
      "RangeIndex: 400 entries, 0 to 399\n",
      "Columns: 4097 entries, 0 to target\n",
      "dtypes: float64(4096), int64(1)\n",
      "memory usage: 12.5 MB\n",
      "None\n",
      "Index(['0', '1', '2', '3', '4', '5', '6', '7', '8', '9',\n",
      "       ...\n",
      "       '4087', '4088', '4089', '4090', '4091', '4092', '4093', '4094', '4095',\n",
      "       'target'],\n",
      "      dtype='object', length=4097)\n",
      "資料維度： (400, 4097)\n"
     ]
    }
   ],
   "source": [
    "data_file = 'Data/face_data.csv'\n",
    "df = pd.read_csv(data_file)\n",
    "\n",
    "# 顯示前幾筆資料\n",
    "print(df.head())\n",
    "\n",
    "# 顯示欄位名稱與資料型態\n",
    "print(df.info())\n",
    "\n",
    "# 若想看欄位名稱\n",
    "print(df.columns)\n",
    "\n",
    "# 顯示資料維度\n",
    "print(\"資料維度：\", df.shape)\n"
   ]
  },
  {
   "cell_type": "code",
   "execution_count": 10,
   "id": "e1b84b84",
   "metadata": {},
   "outputs": [
    {
     "name": "stdout",
     "output_type": "stream",
     "text": [
      "Training samples: 280\n",
      "Testing samples: 120\n",
      "Training data shape: (280, 4096)\n",
      "Testing data shape: (120, 4096)\n",
      "類別數量： 40\n"
     ]
    }
   ],
   "source": [
    "from HW3_common_utils import load_csv_data, split_and_scale\n",
    "\n",
    "data_file = 'Data/face_data.csv'\n",
    "X, y = load_csv_data(data_file)\n",
    "X_train, X_test, y_train, y_test = split_and_scale(X, y, test_size=0.3)\n",
    "\n",
    "print(f\"Training samples: {X_train.shape[0]}\")\n",
    "print(f\"Testing samples: {X_test.shape[0]}\")\n",
    "print(f\"Training data shape: {X_train.shape}\")\n",
    "print(f\"Testing data shape: {X_test.shape}\")\n",
    "print(\"類別數量：\", len(np.unique(y)))"
   ]
  },
  {
   "cell_type": "code",
   "execution_count": 16,
   "id": "2d089ef4",
   "metadata": {},
   "outputs": [
    {
     "name": "stdout",
     "output_type": "stream",
     "text": [
      "Training samples: 280\n",
      "Testing samples: 120\n",
      "Training data shape: (280, 4096)\n",
      "Testing data shape: (120, 4096)\n",
      "類別數量： 40\n"
     ]
    }
   ],
   "source": [
    "data_file = 'Data/face_data.csv'\n",
    "df = pd.read_csv(data_file)\n",
    "X = np.array(df.iloc[:, :-1]) # 排除最後一欄標籤 N x p\n",
    "y = np.array(df.iloc[:, -1])\n",
    "\n",
    "X_train, X_test, y_train, y_test = train_test_split(X, y, test_size=0.30, stratify=y)\n",
    "\n",
    "scaler = StandardScaler()\n",
    "X_train_ = scaler.fit_transform(X_train) # 標準化訓練資料\n",
    "X_test_ = scaler.transform(X_test) # 標準化測試資料\n",
    "# print the numbers of training and testing samples\n",
    "print(f\"Training samples: {X_train_.shape[0]}\")\n",
    "print(f\"Testing samples: {X_test_.shape[0]}\")\n",
    "# print the shape of the data\n",
    "print(f\"Training data shape: {X_train_.shape}\")\n",
    "print(f\"Testing data shape: {X_test_.shape}\")\n",
    "print(\"類別數量：\", len( np.unique(y)))"
   ]
  },
  {
   "cell_type": "code",
   "execution_count": null,
   "id": "8cdd6416",
   "metadata": {},
   "outputs": [
    {
     "name": "stdout",
     "output_type": "stream",
     "text": [
      "Logistic Regression with CV (solver = lbfgs)\n",
      "Best C = [1 1 1 1 1 1 1 1 1 1 1 1 1 1 1 1 1 1 1 1 1 1 1 1 1 1 1 1 1 1 1 1 1 1 1 1 1\n",
      " 1 1 1]\n",
      "Training Accuracy: 100.00%\n",
      "Testing Accuracy : 95.83%\n"
     ]
    }
   ],
   "source": [
    "from HW3_common_utils import run_logistic_regression_cv\n",
    "\n",
    "result = run_logistic_regression_cv(\n",
    "    X_train, X_test, y_train, y_test,\n",
    "    solver='lbfgs',\n",
    "    Cs= np.logspace(-5, 5, 20),\n",
    "    cv=5,\n",
    "    tol=1e-6,\n",
    "    max_iter=int(1e6),\n",
    "    verbose=0,\n",
    "    print_report=True\n",
    ")"
   ]
  },
  {
   "cell_type": "code",
   "execution_count": 22,
   "id": "be92b1d8",
   "metadata": {},
   "outputs": [],
   "source": [
    "from HW3_common_utils import apply_pca\n",
    "\n",
    "X_train_pca, X_test_pca, pca = apply_pca(X_train, X_test, variance_ratio=0.8)"
   ]
  },
  {
   "cell_type": "code",
   "execution_count": 1,
   "id": "6e680b35",
   "metadata": {},
   "outputs": [
    {
     "data": {
      "text/plain": [
       "<module 'HW3_common_utils' from 'c:\\\\Users\\\\Jimmy\\\\Desktop\\\\git\\\\ML711333104\\\\HW3_common_utils.py'>"
      ]
     },
     "execution_count": 1,
     "metadata": {},
     "output_type": "execute_result"
    }
   ],
   "source": [
    "from importlib import reload\n",
    "import HW3_common_utils\n",
    "reload(HW3_common_utils)"
   ]
  },
  {
   "cell_type": "code",
   "execution_count": 23,
   "id": "837b5e86",
   "metadata": {},
   "outputs": [
    {
     "name": "stdout",
     "output_type": "stream",
     "text": [
      "Logistic Regression with CV (solver = lbfgs)\n",
      "Best C = [1.83298071 1.83298071 1.83298071 1.83298071 1.83298071 1.83298071\n",
      " 1.83298071 1.83298071 1.83298071 1.83298071 1.83298071 1.83298071\n",
      " 1.83298071 1.83298071 1.83298071 1.83298071 1.83298071 1.83298071\n",
      " 1.83298071 1.83298071 1.83298071 1.83298071 1.83298071 1.83298071\n",
      " 1.83298071 1.83298071 1.83298071 1.83298071 1.83298071 1.83298071\n",
      " 1.83298071 1.83298071 1.83298071 1.83298071 1.83298071 1.83298071\n",
      " 1.83298071 1.83298071 1.83298071 1.83298071]\n",
      "Training Accuracy: 100.00%\n",
      "Testing Accuracy : 96.67%\n"
     ]
    }
   ],
   "source": [
    "from HW3_common_utils import run_logistic_regression_cv\n",
    "\n",
    "result = run_logistic_regression_cv(\n",
    "    X_train_pca, X_test_pca, y_train, y_test,\n",
    "    solver='lbfgs',\n",
    "    Cs=np.logspace(-5, 5, 20),\n",
    "    cv=5,\n",
    "    tol=1e-6,\n",
    "    max_iter=int(1e6),\n",
    "    verbose=0,\n",
    "    print_report=True\n",
    ")"
   ]
  },
  {
   "cell_type": "code",
   "execution_count": 11,
   "id": "a169660f",
   "metadata": {},
   "outputs": [
    {
     "name": "stdout",
     "output_type": "stream",
     "text": [
      "{'C': 0.1, 'solver': 'lbfgs'}\n",
      "0.9452380952380952\n",
      "LogisticRegression(C=0.1, max_iter=1000000, tol=1e-06)\n"
     ]
    }
   ],
   "source": [
    "from HW3_common_utils import run_logistic_gridcv\n",
    "\n",
    "param_grid = {\n",
    "    'solver': ['lbfgs', 'liblinear', 'saga'],\n",
    "    'C': [0.1, 1, 10]\n",
    "}\n",
    "\n",
    "best_params, best_score, best_model = run_logistic_gridcv(\n",
    "    X_train, y_train,\n",
    "    param_grid=param_grid\n",
    ")"
   ]
  }
 ],
 "metadata": {
  "kernelspec": {
   "display_name": "Python 3",
   "language": "python",
   "name": "python3"
  },
  "language_info": {
   "codemirror_mode": {
    "name": "ipython",
    "version": 3
   },
   "file_extension": ".py",
   "mimetype": "text/x-python",
   "name": "python",
   "nbconvert_exporter": "python",
   "pygments_lexer": "ipython3",
   "version": "3.13.2"
  }
 },
 "nbformat": 4,
 "nbformat_minor": 5
}
