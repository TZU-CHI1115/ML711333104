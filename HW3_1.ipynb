{
 "cells": [
  {
   "cell_type": "markdown",
   "id": "86dacc74",
   "metadata": {},
   "source": [
    "#### <strong>第三次作品：三個分類器於兩組影像的評比實驗</strong>\n",
    "學號：711333104\n",
    "\n",
    "姓名：林子齊\n",
    "<hr>\n",
    "\n",
    " <font color=skyblue>作品目標</font>：\n",
    " <hr>"
   ]
  },
  {
   "cell_type": "code",
   "execution_count": 46,
   "id": "6e680b35",
   "metadata": {},
   "outputs": [
    {
     "data": {
      "text/plain": [
       "<module 'HW3_common_utils' from 'c:\\\\Users\\\\Jimmy\\\\Desktop\\\\git\\\\ML711333104\\\\HW3_common_utils.py'>"
      ]
     },
     "execution_count": 46,
     "metadata": {},
     "output_type": "execute_result"
    }
   ],
   "source": [
    "from importlib import reload\n",
    "import HW3_common_utils\n",
    "reload(HW3_common_utils)"
   ]
  },
  {
   "cell_type": "markdown",
   "id": "0f73e5c4",
   "metadata": {},
   "source": [
    "先觀察資料的型態。\n"
   ]
  },
  {
   "cell_type": "code",
   "execution_count": null,
   "id": "f8b43f61",
   "metadata": {},
   "outputs": [],
   "source": [
    "import pandas as pd\n",
    "import numpy as np\n",
    "from HW3_common_utils import load_csv_data, split_and_scale, apply_pca, run_logistic_regression_cv, run_logistic_gridcv, \\\n",
    "    run_svm_classification, run_mlp_classifier, plot_mlp_loss_curve"
   ]
  },
  {
   "cell_type": "code",
   "execution_count": 2,
   "id": "3bb95400",
   "metadata": {},
   "outputs": [
    {
     "name": "stdout",
     "output_type": "stream",
     "text": [
      "          0         1         2         3         4         5         6  \\\n",
      "0  0.309917  0.367769  0.417355  0.442149  0.528926  0.607438  0.657025   \n",
      "1  0.454545  0.471074  0.512397  0.557851  0.595041  0.640496  0.681818   \n",
      "2  0.318182  0.400826  0.491736  0.528926  0.586777  0.657025  0.681818   \n",
      "3  0.198347  0.194215  0.194215  0.194215  0.190083  0.190083  0.243802   \n",
      "4  0.500000  0.545455  0.582645  0.623967  0.648760  0.690083  0.694215   \n",
      "\n",
      "          7         8         9  ...      4087      4088      4089      4090  \\\n",
      "0  0.677686  0.690083  0.685950  ...  0.669422  0.652893  0.661157  0.475207   \n",
      "1  0.702479  0.710744  0.702479  ...  0.157025  0.136364  0.148760  0.152893   \n",
      "2  0.685950  0.702479  0.698347  ...  0.132231  0.181818  0.136364  0.128099   \n",
      "3  0.404959  0.483471  0.516529  ...  0.636364  0.657025  0.685950  0.727273   \n",
      "4  0.714876  0.723140  0.731405  ...  0.161157  0.177686  0.173554  0.177686   \n",
      "\n",
      "       4091      4092      4093      4094      4095  target  \n",
      "0  0.132231  0.148760  0.152893  0.161157  0.157025       0  \n",
      "1  0.152893  0.152893  0.152893  0.152893  0.152893       0  \n",
      "2  0.148760  0.144628  0.140496  0.148760  0.152893       0  \n",
      "3  0.743802  0.764463  0.752066  0.752066  0.739669       0  \n",
      "4  0.177686  0.177686  0.177686  0.173554  0.173554       0  \n",
      "\n",
      "[5 rows x 4097 columns]\n",
      "<class 'pandas.core.frame.DataFrame'>\n",
      "RangeIndex: 400 entries, 0 to 399\n",
      "Columns: 4097 entries, 0 to target\n",
      "dtypes: float64(4096), int64(1)\n",
      "memory usage: 12.5 MB\n",
      "None\n",
      "Index(['0', '1', '2', '3', '4', '5', '6', '7', '8', '9',\n",
      "       ...\n",
      "       '4087', '4088', '4089', '4090', '4091', '4092', '4093', '4094', '4095',\n",
      "       'target'],\n",
      "      dtype='object', length=4097)\n",
      "資料維度： (400, 4097)\n"
     ]
    }
   ],
   "source": [
    "data_file = 'Data/face_data.csv'\n",
    "df = pd.read_csv(data_file)\n",
    "\n",
    "# 顯示前幾筆資料\n",
    "print(df.head())\n",
    "\n",
    "# 顯示欄位名稱與資料型態\n",
    "print(df.info())\n",
    "\n",
    "# 若想看欄位名稱\n",
    "print(df.columns)\n",
    "\n",
    "# 顯示資料維度\n",
    "print(\"資料維度：\", df.shape)\n"
   ]
  },
  {
   "cell_type": "markdown",
   "id": "073619e4",
   "metadata": {},
   "source": [
    "### 資料切分說明\n",
    "\n",
    "為了進行交叉驗證時能減少資料偏差，我們將**資料依照原始類別比例**進行切分，將資料集分成：\n",
    "\n",
    "- **訓練集（Training Set）**：70%\n",
    "- **測試集（Testing Set）**：30%\n",
    "\n",
    "透過**分層切分（stratified split）**，確保每一類別在訓練集與測試集中都保有相近的比例，有助於：\n",
    "\n",
    "- 提高交叉驗證的代表性\n",
    "- 降低模型偏誤（bias）\n",
    "- 評估模型在未見資料上的泛化能力"
   ]
  },
  {
   "cell_type": "code",
   "execution_count": null,
   "id": "e1b84b84",
   "metadata": {},
   "outputs": [
    {
     "name": "stdout",
     "output_type": "stream",
     "text": [
      "Training samples: 280\n",
      "Testing samples: 120\n",
      "Training data shape: (280, 4096)\n",
      "Testing data shape: (120, 4096)\n",
      "類別數量： 40\n"
     ]
    }
   ],
   "source": [
    "data_file = 'Data/face_data.csv'\n",
    "X, y = load_csv_data(data_file)\n",
    "X_train_scaled, X_test_scaled, y_train, y_test = split_and_scale(X, y, test_size=0.3)\n",
    "\n",
    "print(f\"Training samples: {X_train_scaled.shape[0]}\")\n",
    "print(f\"Testing samples: {X_test_scaled.shape[0]}\")\n",
    "print(f\"Training data shape: {X_train_scaled.shape}\")\n",
    "print(f\"Testing data shape: {X_test_scaled.shape}\")\n",
    "print(\"類別數量：\", len(np.unique(y)))"
   ]
  },
  {
   "cell_type": "markdown",
   "id": "5b6da9d5",
   "metadata": {},
   "source": [
    "## 1. 原始資料\n",
    "\n",
    "### 1-1 多元羅吉斯回歸 (Multinomial Logistic Regression)\n",
    "\n",
    "分別使用 `LogisticRegressionCV` 和 `GridSearchCV` 兩種方法對羅吉斯迴歸進行超參數搜尋與模型評估：\n",
    "\n",
    "- 以下使用 `LogisticRegressionCV` 執行 5-fold 交叉驗證，設定 20 個對數尺度的 C 值，solver 為 `'lbfgs'`，得到以下結果："
   ]
  },
  {
   "cell_type": "code",
   "execution_count": null,
   "id": "8cdd6416",
   "metadata": {},
   "outputs": [
    {
     "name": "stdout",
     "output_type": "stream",
     "text": [
      "Logistic Regression with CV (solver = lbfgs)\n",
      "Best C = [69.51927962 69.51927962 69.51927962 69.51927962 69.51927962 69.51927962\n",
      " 69.51927962 69.51927962 69.51927962 69.51927962 69.51927962 69.51927962\n",
      " 69.51927962 69.51927962 69.51927962 69.51927962 69.51927962 69.51927962\n",
      " 69.51927962 69.51927962 69.51927962 69.51927962 69.51927962 69.51927962\n",
      " 69.51927962 69.51927962 69.51927962 69.51927962 69.51927962 69.51927962\n",
      " 69.51927962 69.51927962 69.51927962 69.51927962 69.51927962 69.51927962\n",
      " 69.51927962 69.51927962 69.51927962 69.51927962]\n",
      "Training Accuracy: 100.00%\n",
      "Testing Accuracy : 97.50%\n",
      "Elapsed time: 222.68 seconds\n"
     ]
    }
   ],
   "source": [
    "result = run_logistic_regression_cv(\n",
    "    X_train_scaled, X_test_scaled, y_train, y_test,\n",
    "    solver='lbfgs',\n",
    "    Cs= np.logspace(-5, 5, 20),\n",
    "    cv=5,\n",
    "    tol=1e-6,\n",
    "    max_iter=int(1e6),\n",
    "    verbose=0,\n",
    "    print_report=True\n",
    ")"
   ]
  },
  {
   "cell_type": "markdown",
   "id": "68301c0c",
   "metadata": {},
   "source": [
    "模型在所有交叉驗證中皆選擇較大的 C 值，顯示資料具良好可分性，模型傾向降低正則化強度。整體而言，訓練與測試準確率皆高、交叉驗證結果穩定，展現優異效能。\n",
    "\n",
    "- 以下使用 `GridSearchCV` 執行 5-fold 交叉驗證，設定 C 值為 `0.1, 1, 10` ，solver 為 `'lbfgs', 'newton-cg', 'saga'`，得到以下結果："
   ]
  },
  {
   "cell_type": "code",
   "execution_count": null,
   "id": "a169660f",
   "metadata": {},
   "outputs": [
    {
     "name": "stdout",
     "output_type": "stream",
     "text": [
      "{'C': 10, 'solver': 'newton-cg'}\n",
      "0.9476190476190476\n",
      "LogisticRegression(C=10, max_iter=1000000, solver='newton-cg', tol=1e-06)\n",
      "Elapsed time: 22823.27 seconds\n"
     ]
    }
   ],
   "source": [
    "param_grid = {\n",
    "    'solver': ['lbfgs', 'newton-cg', 'saga'],\n",
    "    'C': [0.1, 1, 10]\n",
    "}\n",
    "\n",
    "result = run_logistic_gridcv(X_train_scaled, y_train, param_grid=param_grid)"
   ]
  },
  {
   "cell_type": "markdown",
   "id": "e928e1c1",
   "metadata": {},
   "source": [
    "GridSearchCV 共搜尋 9 組參數組合（3 個 solver × 3 個 C），每組皆進行 5-fold 交叉驗證，導致總耗時達 22,823 秒（超過 6 小時），計算成本相當高。雖然耗時較久，但交叉驗證下的平均準確率約為 94.76%，顯示所選參數組合在訓練階段表現良好。"
   ]
  },
  {
   "cell_type": "markdown",
   "id": "934da597",
   "metadata": {},
   "source": [
    "### 1-2 支援向量機\n",
    "#### 1. 使用線性核（`kernel='linear'`）的 SVC 模型進行分類"
   ]
  },
  {
   "cell_type": "code",
   "execution_count": 48,
   "id": "75f92d61",
   "metadata": {},
   "outputs": [
    {
     "name": "stdout",
     "output_type": "stream",
     "text": [
      "SVM Classification (SVC-linear)\n",
      "Test Accuracy: 96.67%\n",
      "Elapsed Time: 0.13 seconds\n"
     ]
    }
   ],
   "source": [
    "result = run_svm_classification(\n",
    "    X_train_scaled, X_test_scaled, y_train, y_test,\n",
    "    kernel='linear',\n",
    "    use_linear_svc=False \n",
    ")"
   ]
  },
  {
   "cell_type": "markdown",
   "id": "0c686fb0",
   "metadata": {},
   "source": [
    "模型在測試集上表現良好，準確率達到 96.67%，顯示線性決策邊界對此資料集具有良好分類能力。\n",
    "\n",
    "#### 2. 使用線性核（`kernel='rbf'`）的 SVC 模型進行分類"
   ]
  },
  {
   "cell_type": "code",
   "execution_count": 20,
   "id": "c9abd550",
   "metadata": {},
   "outputs": [
    {
     "name": "stdout",
     "output_type": "stream",
     "text": [
      "SVM Classification (SVC-rbf)\n",
      "Test Accuracy: 90.00%\n",
      "Elapsed Time: 0.13 seconds\n"
     ]
    }
   ],
   "source": [
    "result = run_svm_classification(\n",
    "    X_train_scaled, X_test_scaled, y_train, y_test,\n",
    "    kernel='rbf',\n",
    "    C=0.1,\n",
    "    gamma=0.2,\n",
    "    use_linear_svc=False\n",
    ")\n"
   ]
  },
  {
   "cell_type": "markdown",
   "id": "4c715365",
   "metadata": {},
   "source": [
    "手動調整多組 `C` 與 `gamma` 參數後，模型的最佳測試準確率為 **90.00%**，整體表現尚可。\n",
    "\n",
    "#### 3. 使用線性核（`kernel='poly'`）的 SVC 模型進行分類\n",
    "- degree=2"
   ]
  },
  {
   "cell_type": "code",
   "execution_count": 44,
   "id": "148c3e8b",
   "metadata": {},
   "outputs": [
    {
     "name": "stdout",
     "output_type": "stream",
     "text": [
      "SVM Classification (SVC-poly)\n",
      "Test Accuracy: 78.33%\n",
      "Elapsed Time: 0.10 seconds\n"
     ]
    }
   ],
   "source": [
    "result = run_svm_classification(\n",
    "    X_train_scaled, X_test_scaled, y_train, y_test,\n",
    "    kernel='poly',\n",
    "    degree=2,\n",
    "    gamma='auto',\n",
    "    use_linear_svc=False \n",
    ")"
   ]
  },
  {
   "cell_type": "markdown",
   "id": "0956fbe3",
   "metadata": {},
   "source": [
    "-  degree=3"
   ]
  },
  {
   "cell_type": "code",
   "execution_count": 42,
   "id": "787555fb",
   "metadata": {},
   "outputs": [
    {
     "name": "stdout",
     "output_type": "stream",
     "text": [
      "SVM Classification (SVC-poly)\n",
      "Test Accuracy: 63.33%\n",
      "Elapsed Time: 0.10 seconds\n"
     ]
    }
   ],
   "source": [
    "result = run_svm_classification(\n",
    "    X_train_scaled, X_test_scaled, y_train, y_test,\n",
    "    kernel='poly',\n",
    "    degree=3,\n",
    "    gamma='auto',\n",
    "    use_linear_svc=False \n",
    ")"
   ]
  },
  {
   "cell_type": "markdown",
   "id": "15ea49dc",
   "metadata": {},
   "source": [
    "使用多項式核（`kernel='poly'`）的 SVM 模型在本資料集上的表現不佳，且隨著多項式次數增加，模型效能明顯下降。當 **degree = 2** 時，測試準確率為 **78.33%**，而提高至 **degree = 3** 時，準確率驟降至 **63.33%**，顯示決策邊界可能過於複雜，導致**過擬合**或**泛化能力下降**。整體而言，本資料不適合採用高階多項式核函數進行建模。\n",
    "\n",
    "#### 4. 使用 `LinearSVC`\n"
   ]
  },
  {
   "cell_type": "code",
   "execution_count": 13,
   "id": "dd569aef",
   "metadata": {},
   "outputs": [
    {
     "name": "stdout",
     "output_type": "stream",
     "text": [
      "SVM Classification (LinearSVC)\n",
      "Test Accuracy: 98.33%\n",
      "Elapsed Time: 58.96 seconds\n"
     ]
    }
   ],
   "source": [
    "result = run_svm_classification(\n",
    "    X_train_scaled, X_test_scaled, y_train, y_test,\n",
    "    use_linear_svc=True  \n",
    ")"
   ]
  },
  {
   "cell_type": "markdown",
   "id": "2895d00a",
   "metadata": {},
   "source": [
    "LinearSVC 在測試集上表現優異，測試準確率高達 **98.33%**，為目前所有支援向量機模型中的最佳表現，顯示資料具有**明顯的線性可分性**，適合使用線性分類器進行建模。然而，**訓練時間明顯較長**（近 1 分鐘），相比使用 `SVC(kernel='linear')` 僅需 0.13 秒，測試準確率也達 **96.67%** ，其效率顯著偏低。\n",
    "\n",
    "\n",
    "### 1-3 神經網路\n",
    "\n",
    "#### 1. 使用一層隱藏層、100 個神經元的多層感知器（MLP）進行訓練，並採用 ReLU 作為啟用函數，Adam 作為優化器。"
   ]
  },
  {
   "cell_type": "code",
   "execution_count": null,
   "id": "938a8dfd",
   "metadata": {},
   "outputs": [
    {
     "name": "stdout",
     "output_type": "stream",
     "text": [
      "MLP Classifier Report\n",
      "Test Accuracy: 96.67%\n",
      "Elapsed Time: 4.40 seconds\n"
     ]
    },
    {
     "data": {
      "image/png": "[encoded data removed]",
      "text/plain": [
       "<Figure size 500x300 with 1 Axes>"
      ]
     },
     "metadata": {},
     "output_type": "display_data"
    }
   ],
   "source": [
    "result = run_mlp_classifier(\n",
    "    X_train_scaled, X_test_scaled, y_train, y_test,\n",
    "    hidden_layers=(100,),\n",
    "    activation='relu',\n",
    "    solver='adam',\n",
    "    print_report=True,\n",
    "    random_state=42\n",
    ")\n",
    "\n",
    "plot_mlp_loss_curve(result['model'])"
   ]
  },
  {
   "cell_type": "markdown",
   "id": "56254455",
   "metadata": {},
   "source": [
    "\n",
    "**測試準確率（Test Accuracy）**：96.67%，模型分類效果良好。\n",
    "\n",
    "從損失曲線可觀察到以下現象：\n",
    "\n",
    "- **快速下降**：訓練初期損失迅速下降，模型快速學習到關鍵特徵。\n",
    "- **平穩收斂**：約在第 10 次迭代後，損失值趨於穩定並接近 0，顯示模型已成功收斂，未出現震盪或過擬合現象。\n",
    "- **曲線平滑**：整體曲線平滑穩定，代表訓練過程順利，Adam 優化器在此任務中表現良好。\n",
    "\n",
    "#### 2. 使用一層隱藏層、100 個神經元的多層感知器（MLP）進行訓練，並採用 ReLU 作為啟用函數，改採 sgd 作為優化器。"
   ]
  },
  {
   "cell_type": "code",
   "execution_count": 48,
   "id": "37629b4c",
   "metadata": {},
   "outputs": [
    {
     "name": "stdout",
     "output_type": "stream",
     "text": [
      "MLP Classifier Report\n",
      "Test Accuracy: 96.67%\n",
      "Elapsed Time: 60.23 seconds\n"
     ]
    },
    {
     "data": {
      "image/png": "[encoded data removed]",
      "text/plain": [
       "<Figure size 500x300 with 1 Axes>"
      ]
     },
     "metadata": {},
     "output_type": "display_data"
    }
   ],
   "source": [
    "result = run_mlp_classifier(\n",
    "    X_train_scaled, X_test_scaled, y_train, y_test,\n",
    "    hidden_layers=(100,),\n",
    "    activation='relu',\n",
    "    solver='sgd',\n",
    "    print_report=True,\n",
    "    random_state=42\n",
    ")\n",
    "\n",
    "plot_mlp_loss_curve(result['model'])"
   ]
  },
  {
   "cell_type": "markdown",
   "id": "aebea70b",
   "metadata": {},
   "source": [
    "**測試準確率（Test Accuracy）**：96.67%，模型分類效果良好。\n",
    "\n",
    "從損失曲線可觀察到以下現象：\n",
    "\n",
    "- **初期損失較高**：初始 loss 約為 4，略高於 Adam 的初始值。\n",
    "- **緩慢下降**：訓練初期損失下降速度較慢，相較於 Adam 極速下降，SGD 步伐較為保守。\n",
    "- **收斂穩定但耗時較長**：大約需要數百次以上的迭代才能達到穩定的最低損失，且總訓練迭代達 2000 次。\n",
    "- **曲線平滑穩定**：整體曲線仍然平滑無震盪，最終 loss 接近 0，顯示模型成功學習並收斂。\n",
    "\n",
    "## 2. 主成分資料\n",
    "\n",
    "將原始標準化後的資料降維，保留 80% 的資料變異量（variance_ratio = 0.8）。"
   ]
  },
  {
   "cell_type": "code",
   "execution_count": null,
   "id": "be92b1d8",
   "metadata": {},
   "outputs": [],
   "source": [
    "X_train_pca, X_test_pca, pca = apply_pca(X_train_scaled, X_test_scaled, variance_ratio=0.8)"
   ]
  },
  {
   "cell_type": "markdown",
   "id": "a428a9e7",
   "metadata": {},
   "source": [
    "### 2-1 多元羅吉斯回歸 \n",
    "\n",
    "分別使用 `LogisticRegressionCV` 和 `GridSearchCV` 兩種方法對羅吉斯迴歸進行超參數搜尋與模型評估：\n",
    "\n",
    "- 以下使用 `LogisticRegressionCV` 執行 5-fold 交叉驗證，設定 20 個對數尺度的 C 值，solver 為 `'lbfgs'`，得到以下結果："
   ]
  },
  {
   "cell_type": "code",
   "execution_count": null,
   "id": "837b5e86",
   "metadata": {},
   "outputs": [
    {
     "name": "stdout",
     "output_type": "stream",
     "text": [
      "Logistic Regression with CV (solver = lbfgs)\n",
      "Best C = [1.83298071 1.83298071 1.83298071 1.83298071 1.83298071 1.83298071\n",
      " 1.83298071 1.83298071 1.83298071 1.83298071 1.83298071 1.83298071\n",
      " 1.83298071 1.83298071 1.83298071 1.83298071 1.83298071 1.83298071\n",
      " 1.83298071 1.83298071 1.83298071 1.83298071 1.83298071 1.83298071\n",
      " 1.83298071 1.83298071 1.83298071 1.83298071 1.83298071 1.83298071\n",
      " 1.83298071 1.83298071 1.83298071 1.83298071 1.83298071 1.83298071\n",
      " 1.83298071 1.83298071 1.83298071 1.83298071]\n",
      "Training Accuracy: 100.00%\n",
      "Testing Accuracy : 96.67%\n",
      "Elapsed time: 5.78 seconds\n"
     ]
    }
   ],
   "source": [
    "result = run_logistic_regression_cv(\n",
    "    X_train_pca, X_test_pca, y_train, y_test,\n",
    "    solver='lbfgs',\n",
    "    Cs=np.logspace(-5, 5, 20),\n",
    "    cv=5,\n",
    "    tol=1e-6,\n",
    "    max_iter=int(1e6),\n",
    "    verbose=0,\n",
    "    print_report=True\n",
    ")"
   ]
  },
  {
   "cell_type": "markdown",
   "id": "7a1f11be",
   "metadata": {},
   "source": [
    "整體而言，訓練與測試準確率皆高、交叉驗證結果穩定，展現優異效能。\n",
    "\n",
    "- 以下使用 `GridSearchCV` 執行 5-fold 交叉驗證，設定 C 值為 `0.1, 1, 10` ，solver 為 `'lbfgs', 'newton-cg', 'saga'`，得到以下結果："
   ]
  },
  {
   "cell_type": "code",
   "execution_count": null,
   "id": "465f8534",
   "metadata": {},
   "outputs": [
    {
     "name": "stdout",
     "output_type": "stream",
     "text": [
      "{'C': 1, 'solver': 'saga'}\n",
      "0.919047619047619\n",
      "LogisticRegression(C=1, max_iter=1000000, solver='saga', tol=1e-06)\n",
      "Elapsed time: 312.62 seconds\n"
     ]
    }
   ],
   "source": [
    "param_grid = {\n",
    "    'solver': ['lbfgs', 'newton-cg', 'saga'],\n",
    "    'C': [0.1, 1, 10]\n",
    "}\n",
    "\n",
    "result = run_logistic_gridcv(X_train_pca, y_train, param_grid=param_grid)"
   ]
  },
  {
   "cell_type": "markdown",
   "id": "9c5b1065",
   "metadata": {},
   "source": [
    "交叉驗證下的平均準確率約為 91.90%，顯示所選參數組合在訓練階段表現良好。\n",
    "\n",
    "### 2-2 支援向量機\n",
    "#### 1. 使用線性核（`kernel='linear'`）的 SVC 模型進行分類"
   ]
  },
  {
   "cell_type": "code",
   "execution_count": 96,
   "id": "31deee7b",
   "metadata": {},
   "outputs": [
    {
     "name": "stdout",
     "output_type": "stream",
     "text": [
      "SVM Classification (SVC-linear)\n",
      "Test Accuracy: 96.67%\n",
      "Elapsed Time: 0.01 seconds\n"
     ]
    }
   ],
   "source": [
    "result = run_svm_classification(\n",
    "    X_train_pca, X_test_pca, y_train, y_test,\n",
    "    kernel='linear',\n",
    "    use_linear_svc=False \n",
    ")"
   ]
  },
  {
   "cell_type": "markdown",
   "id": "07dfdf42",
   "metadata": {},
   "source": [
    "模型在測試集上表現良好，準確率達到 96.67%，顯示線性決策邊界對此資料集具有良好分類能力。\n",
    "\n",
    "#### 2. 使用線性核（`kernel='rbf'`）的 SVC 模型進行分類"
   ]
  },
  {
   "cell_type": "code",
   "execution_count": 97,
   "id": "da1dc0b4",
   "metadata": {},
   "outputs": [
    {
     "name": "stdout",
     "output_type": "stream",
     "text": [
      "SVM Classification (SVC-rbf)\n",
      "Test Accuracy: 85.83%\n",
      "Elapsed Time: 0.01 seconds\n"
     ]
    }
   ],
   "source": [
    "result = run_svm_classification(\n",
    "    X_train_pca, X_test_pca, y_train, y_test,\n",
    "    kernel='rbf',\n",
    "    C=0.1,\n",
    "    gamma=0.5,\n",
    "    use_linear_svc=False\n",
    ")"
   ]
  },
  {
   "cell_type": "markdown",
   "id": "8c2efc57",
   "metadata": {},
   "source": [
    "手動調整多組 `C` 與 `gamma` 參數後，模型的最佳測試準確率為 **85.83%**，整體表現還是不佳。\n",
    "\n",
    "#### 3. 使用線性核（`kernel='poly'`）的 SVC 模型進行分類\n",
    "- degree=2"
   ]
  },
  {
   "cell_type": "code",
   "execution_count": 98,
   "id": "cbe99c20",
   "metadata": {},
   "outputs": [
    {
     "name": "stdout",
     "output_type": "stream",
     "text": [
      "SVM Classification (SVC-poly)\n",
      "Test Accuracy: 93.33%\n",
      "Elapsed Time: 0.01 seconds\n"
     ]
    }
   ],
   "source": [
    "result = run_svm_classification(\n",
    "    X_train_pca, X_test_pca, y_train, y_test,\n",
    "    kernel='poly',\n",
    "    degree=2,\n",
    "    gamma='auto',\n",
    "    use_linear_svc=False \n",
    ")"
   ]
  },
  {
   "cell_type": "markdown",
   "id": "c86d9772",
   "metadata": {},
   "source": [
    "-  degree=3"
   ]
  },
  {
   "cell_type": "code",
   "execution_count": 103,
   "id": "d67f8ad3",
   "metadata": {},
   "outputs": [
    {
     "name": "stdout",
     "output_type": "stream",
     "text": [
      "SVM Classification (SVC-poly)\n",
      "Test Accuracy: 90.00%\n",
      "Elapsed Time: 0.01 seconds\n"
     ]
    }
   ],
   "source": [
    "result = run_svm_classification(\n",
    "    X_train_pca, X_test_pca, y_train, y_test,\n",
    "    kernel='poly',\n",
    "    degree=3,\n",
    "    gamma='auto',\n",
    "    use_linear_svc=False \n",
    ")"
   ]
  },
  {
   "cell_type": "markdown",
   "id": "6e74bcd6",
   "metadata": {},
   "source": [
    "使用多項式核函數（`kernel='poly'`）的 SVM 模型在本資料集上的表現相對有限，且隨著多項式次數增加，模型效能略有下降。當 **degree = 2** 時，測試準確率為 **93.33%**，提升至 **degree = 3** 時則下降至 **90.00%**，顯示高階多項式核並未帶來效能提升，反映資料本身對複雜非線性邊界的需求較低。\n",
    "\n",
    "#### 4. 使用 `LinearSVC`"
   ]
  },
  {
   "cell_type": "code",
   "execution_count": 106,
   "id": "afa65149",
   "metadata": {},
   "outputs": [
    {
     "name": "stdout",
     "output_type": "stream",
     "text": [
      "SVM Classification (LinearSVC)\n",
      "Test Accuracy: 93.33%\n",
      "Elapsed Time: 0.06 seconds\n"
     ]
    }
   ],
   "source": [
    "result = run_svm_classification(\n",
    "    X_train_pca, X_test_pca, y_train, y_test,\n",
    "    use_linear_svc=True  \n",
    ")"
   ]
  },
  {
   "cell_type": "markdown",
   "id": "83161d34",
   "metadata": {},
   "source": [
    "使用 LinearSVC 進行分類，測試準確率為 **93.33%**，整體表現穩定。  \n",
    "\n",
    "### 2-3 神經網路\n",
    "\n",
    "#### 1. 使用一層隱藏層、130 個神經元的多層感知器（MLP）進行訓練，並採用 ReLU 作為啟用函數，Adam 作為優化器。"
   ]
  },
  {
   "cell_type": "code",
   "execution_count": 113,
   "id": "a942e2fb",
   "metadata": {},
   "outputs": [
    {
     "name": "stdout",
     "output_type": "stream",
     "text": [
      "MLP Classifier Report\n",
      "Test Accuracy: 95.00%\n",
      "Elapsed Time: 1.01 seconds\n"
     ]
    },
    {
     "data": {
      "image/png": "[encoded data removed]",
      "text/plain": [
       "<Figure size 500x300 with 1 Axes>"
      ]
     },
     "metadata": {},
     "output_type": "display_data"
    }
   ],
   "source": [
    "result = run_mlp_classifier(\n",
    "    X_train_pca, X_test_pca, y_train, y_test,\n",
    "    hidden_layers=(130,),\n",
    "    activation='relu',\n",
    "    solver='adam',\n",
    "    print_report=True,\n",
    "    random_state=42\n",
    ")\n",
    "\n",
    "plot_mlp_loss_curve(result['model'])"
   ]
  },
  {
   "cell_type": "markdown",
   "id": "001e89cb",
   "metadata": {},
   "source": [
    "**測試準確率（Test Accuracy）**：91.67%，模型分類效果良好。\n",
    "\n",
    "從損失曲線可觀察到以下現象：\n",
    "\n",
    "- **快速下降**：訓練初期損失迅速下降，模型快速學習到關鍵特徵。\n",
    "- **平穩收斂**：約在第 50 次迭代後，損失值趨於穩定並接近 0，顯示模型已成功收斂，未出現震盪或過擬合現象。\n",
    "- **曲線平滑**：整體曲線平滑穩定，代表訓練過程順利，Adam 優化器在此任務中表現良好。\n",
    "\n",
    "#### 2. 使用一層隱藏層、300 個神經元的多層感知器（MLP）進行訓練，並採用 ReLU 作為啟用函數，改採 sgd 作為優化器。"
   ]
  },
  {
   "cell_type": "code",
   "execution_count": 64,
   "id": "ada71d57",
   "metadata": {},
   "outputs": [
    {
     "name": "stdout",
     "output_type": "stream",
     "text": [
      "MLP Classifier Report\n",
      "Test Accuracy: 95.00%\n",
      "Elapsed Time: 3.33 seconds\n"
     ]
    },
    {
     "data": {
      "image/png": "[encoded data removed]",
      "text/plain": [
       "<Figure size 500x300 with 1 Axes>"
      ]
     },
     "metadata": {},
     "output_type": "display_data"
    }
   ],
   "source": [
    "result = run_mlp_classifier(\n",
    "    X_train_pca, X_test_pca, y_train, y_test,\n",
    "    hidden_layers=(300,),\n",
    "    activation='relu',\n",
    "    solver='sgd',\n",
    "    print_report=True,\n",
    "    random_state=42\n",
    ")\n",
    "\n",
    "plot_mlp_loss_curve(result['model'])"
   ]
  },
  {
   "cell_type": "markdown",
   "id": "5badaf55",
   "metadata": {},
   "source": [
    "**測試準確率（Test Accuracy）** 為 **95.00%**，顯示模型具備良好的分類能力。\n",
    "\n",
    "從訓練損失曲線中可觀察到以下現象：\n",
    "\n",
    "- **快速下降**：訓練初期損失迅速下降，模型快速學習到關鍵特徵。\n",
    "- **平穩收斂**：約在第 60 次迭代後，損失值趨於穩定並接近 0，顯示模型已成功收斂，未出現震盪或過擬合現象。\n",
    "- **收斂穩定但耗時較長**：模型大約經過數百次迭代後才逐漸趨於穩定，總迭代次數達 1750 次，顯示訓練耗時相對較長。\n",
    "- **曲線平滑穩定**：整體損失曲線平滑無震盪，最終 loss 接近 0，表示模型已成功學習並完成有效收斂。\n"
   ]
  }
 ],
 "metadata": {
  "kernelspec": {
   "display_name": "Python 3",
   "language": "python",
   "name": "python3"
  },
  "language_info": {
   "codemirror_mode": {
    "name": "ipython",
    "version": 3
   },
   "file_extension": ".py",
   "mimetype": "text/x-python",
   "name": "python",
   "nbconvert_exporter": "python",
   "pygments_lexer": "ipython3",
   "version": "3.13.2"
  }
 },
 "nbformat": 4,
 "nbformat_minor": 5
}
